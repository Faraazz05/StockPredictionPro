{
 "cells": [
  {
   "cell_type": "markdown",
   "id": "02fd3040",
   "metadata": {},
   "source": [
    "# Baseline Models for StockPredictionPro\n",
    "\n",
    "This notebook implements baseline machine learning models to provide initial benchmarks for stock price prediction.\n",
    "\n",
    "Models included:\n",
    "- Linear Regression\n",
    "- Ridge Regression  \n",
    "- Lasso Regression\n",
    "- Decision Tree Regressor\n",
    "- Random Forest Regressor\n",
    "\n",
    "These models are simple, fast to train, and useful for initial performance estimation before moving on to advanced algorithms.\n"
   ]
  },
  {
   "cell_type": "code",
   "execution_count": 1,
   "id": "99d5ec13",
   "metadata": {},
   "outputs": [
    {
     "name": "stdout",
     "output_type": "stream",
     "text": [
      "✅ Baseline ML libraries loaded\n"
     ]
    }
   ],
   "source": [
    "import numpy as np\n",
    "import pandas as pd\n",
    "import matplotlib.pyplot as plt\n",
    "import seaborn as sns\n",
    "from sklearn.linear_model import LinearRegression, Ridge, Lasso\n",
    "from sklearn.tree import DecisionTreeRegressor\n",
    "from sklearn.ensemble import RandomForestRegressor\n",
    "from sklearn.model_selection import train_test_split\n",
    "from sklearn.preprocessing import StandardScaler\n",
    "from sklearn.metrics import mean_squared_error, mean_absolute_error, r2_score\n",
    "\n",
    "sns.set_theme(style='darkgrid')\n",
    "%matplotlib inline\n",
    "\n",
    "import warnings\n",
    "warnings.filterwarnings('ignore')\n",
    "\n",
    "print('✅ Baseline ML libraries loaded')\n"
   ]
  },
  {
   "cell_type": "code",
   "execution_count": 2,
   "id": "20686498",
   "metadata": {},
   "outputs": [
    {
     "name": "stdout",
     "output_type": "stream",
     "text": [
      "❌ Selected features not found, generating sample data\n",
      "Shape: (1000, 11)\n"
     ]
    },
    {
     "data": {
      "text/html": [
       "<div>\n",
       "<style scoped>\n",
       "    .dataframe tbody tr th:only-of-type {\n",
       "        vertical-align: middle;\n",
       "    }\n",
       "\n",
       "    .dataframe tbody tr th {\n",
       "        vertical-align: top;\n",
       "    }\n",
       "\n",
       "    .dataframe thead th {\n",
       "        text-align: right;\n",
       "    }\n",
       "</style>\n",
       "<table border=\"1\" class=\"dataframe\">\n",
       "  <thead>\n",
       "    <tr style=\"text-align: right;\">\n",
       "      <th></th>\n",
       "      <th>feature_1</th>\n",
       "      <th>feature_2</th>\n",
       "      <th>feature_3</th>\n",
       "      <th>feature_4</th>\n",
       "      <th>feature_5</th>\n",
       "      <th>feature_6</th>\n",
       "      <th>feature_7</th>\n",
       "      <th>feature_8</th>\n",
       "      <th>feature_9</th>\n",
       "      <th>feature_10</th>\n",
       "      <th>target</th>\n",
       "    </tr>\n",
       "  </thead>\n",
       "  <tbody>\n",
       "    <tr>\n",
       "      <th>0</th>\n",
       "      <td>0.496714</td>\n",
       "      <td>-0.138264</td>\n",
       "      <td>0.647689</td>\n",
       "      <td>1.523030</td>\n",
       "      <td>-0.234153</td>\n",
       "      <td>-0.234137</td>\n",
       "      <td>1.579213</td>\n",
       "      <td>0.767435</td>\n",
       "      <td>-0.469474</td>\n",
       "      <td>0.542560</td>\n",
       "      <td>0.180508</td>\n",
       "    </tr>\n",
       "    <tr>\n",
       "      <th>1</th>\n",
       "      <td>-0.463418</td>\n",
       "      <td>-0.465730</td>\n",
       "      <td>0.241962</td>\n",
       "      <td>-1.913280</td>\n",
       "      <td>-1.724918</td>\n",
       "      <td>-0.562288</td>\n",
       "      <td>-1.012831</td>\n",
       "      <td>0.314247</td>\n",
       "      <td>-0.908024</td>\n",
       "      <td>-1.412304</td>\n",
       "      <td>-0.262259</td>\n",
       "    </tr>\n",
       "    <tr>\n",
       "      <th>2</th>\n",
       "      <td>1.465649</td>\n",
       "      <td>-0.225776</td>\n",
       "      <td>0.067528</td>\n",
       "      <td>-1.424748</td>\n",
       "      <td>-0.544383</td>\n",
       "      <td>0.110923</td>\n",
       "      <td>-1.150994</td>\n",
       "      <td>0.375698</td>\n",
       "      <td>-0.600639</td>\n",
       "      <td>-0.291694</td>\n",
       "      <td>0.673086</td>\n",
       "    </tr>\n",
       "    <tr>\n",
       "      <th>3</th>\n",
       "      <td>-0.601707</td>\n",
       "      <td>1.852278</td>\n",
       "      <td>-0.013497</td>\n",
       "      <td>-1.057711</td>\n",
       "      <td>0.822545</td>\n",
       "      <td>-1.220844</td>\n",
       "      <td>0.208864</td>\n",
       "      <td>-1.959670</td>\n",
       "      <td>-1.328186</td>\n",
       "      <td>0.196861</td>\n",
       "      <td>-0.289812</td>\n",
       "    </tr>\n",
       "    <tr>\n",
       "      <th>4</th>\n",
       "      <td>0.738467</td>\n",
       "      <td>0.171368</td>\n",
       "      <td>-0.115648</td>\n",
       "      <td>-0.301104</td>\n",
       "      <td>-1.478522</td>\n",
       "      <td>-0.719844</td>\n",
       "      <td>-0.460639</td>\n",
       "      <td>1.057122</td>\n",
       "      <td>0.343618</td>\n",
       "      <td>-1.763040</td>\n",
       "      <td>0.488951</td>\n",
       "    </tr>\n",
       "  </tbody>\n",
       "</table>\n",
       "</div>"
      ],
      "text/plain": [
       "   feature_1  feature_2  feature_3  feature_4  feature_5  feature_6  \\\n",
       "0   0.496714  -0.138264   0.647689   1.523030  -0.234153  -0.234137   \n",
       "1  -0.463418  -0.465730   0.241962  -1.913280  -1.724918  -0.562288   \n",
       "2   1.465649  -0.225776   0.067528  -1.424748  -0.544383   0.110923   \n",
       "3  -0.601707   1.852278  -0.013497  -1.057711   0.822545  -1.220844   \n",
       "4   0.738467   0.171368  -0.115648  -0.301104  -1.478522  -0.719844   \n",
       "\n",
       "   feature_7  feature_8  feature_9  feature_10    target  \n",
       "0   1.579213   0.767435  -0.469474    0.542560  0.180508  \n",
       "1  -1.012831   0.314247  -0.908024   -1.412304 -0.262259  \n",
       "2  -1.150994   0.375698  -0.600639   -0.291694  0.673086  \n",
       "3   0.208864  -1.959670  -1.328186    0.196861 -0.289812  \n",
       "4  -0.460639   1.057122   0.343618   -1.763040  0.488951  "
      ]
     },
     "execution_count": 2,
     "metadata": {},
     "output_type": "execute_result"
    }
   ],
   "source": [
    "try:\n",
    "    df = pd.read_csv('../data/processed/selected_features.csv', index_col=0)\n",
    "    print('✅ Selected features loaded')\n",
    "except FileNotFoundError:\n",
    "    print('❌ Selected features not found, generating sample data')\n",
    "    np.random.seed(42)\n",
    "    n_samples, n_features = 1000, 10\n",
    "    X_sample = np.random.randn(n_samples, n_features)\n",
    "    y_sample = X_sample[:, 0] * 0.5 + np.random.normal(0, 0.1, n_samples)\n",
    "    col_names = [f'feature_{i+1}' for i in range(n_features)]\n",
    "    df = pd.DataFrame(X_sample, columns=col_names)\n",
    "    df['target'] = y_sample\n",
    "\n",
    "print(f'Shape: {df.shape}')\n",
    "df.head()\n"
   ]
  },
  {
   "cell_type": "code",
   "execution_count": 3,
   "id": "c4b56bee",
   "metadata": {},
   "outputs": [
    {
     "name": "stdout",
     "output_type": "stream",
     "text": [
      "Train shape: (800, 10), Test shape: (200, 10)\n"
     ]
    }
   ],
   "source": [
    "X = df.drop(columns=['target'])\n",
    "y = df['target']\n",
    "\n",
    "# Train/test split\n",
    "X_train, X_test, y_train, y_test = train_test_split(X, y, test_size=0.2, random_state=42)\n",
    "\n",
    "# Scale features\n",
    "scaler = StandardScaler()\n",
    "X_train_scaled = pd.DataFrame(scaler.fit_transform(X_train), columns=X_train.columns, index=X_train.index)\n",
    "X_test_scaled = pd.DataFrame(scaler.transform(X_test), columns=X_test.columns, index=X_test.index)\n",
    "\n",
    "print(f'Train shape: {X_train_scaled.shape}, Test shape: {X_test_scaled.shape}')\n"
   ]
  },
  {
   "cell_type": "code",
   "execution_count": 4,
   "id": "afb1c0cb",
   "metadata": {},
   "outputs": [
    {
     "name": "stdout",
     "output_type": "stream",
     "text": [
      "Linear Regression Train MSE: 0.0093\n",
      "Linear Regression Test MSE: 0.0096\n"
     ]
    }
   ],
   "source": [
    "model_lr = LinearRegression()\n",
    "model_lr.fit(X_train_scaled, y_train)\n",
    "\n",
    "preds_train = model_lr.predict(X_train_scaled)\n",
    "preds_test = model_lr.predict(X_test_scaled)\n",
    "\n",
    "mse_train = mean_squared_error(y_train, preds_train)\n",
    "mse_test = mean_squared_error(y_test, preds_test)\n",
    "\n",
    "print(f'Linear Regression Train MSE: {mse_train:.4f}')\n",
    "print(f'Linear Regression Test MSE: {mse_test:.4f}')\n"
   ]
  },
  {
   "cell_type": "code",
   "execution_count": 5,
   "id": "bc9f9868",
   "metadata": {},
   "outputs": [
    {
     "name": "stdout",
     "output_type": "stream",
     "text": [
      "Ridge Regression Train MSE: 0.0093\n",
      "Ridge Regression Test MSE: 0.0096\n"
     ]
    }
   ],
   "source": [
    "model_ridge = Ridge(alpha=1.0)\n",
    "model_ridge.fit(X_train_scaled, y_train)\n",
    "\n",
    "preds_train = model_ridge.predict(X_train_scaled)\n",
    "preds_test = model_ridge.predict(X_test_scaled)\n",
    "\n",
    "mse_train = mean_squared_error(y_train, preds_train)\n",
    "mse_test = mean_squared_error(y_test, preds_test)\n",
    "\n",
    "print(f'Ridge Regression Train MSE: {mse_train:.4f}')\n",
    "print(f'Ridge Regression Test MSE: {mse_test:.4f}')\n"
   ]
  },
  {
   "cell_type": "code",
   "execution_count": 6,
   "id": "5d5a614d",
   "metadata": {},
   "outputs": [
    {
     "name": "stdout",
     "output_type": "stream",
     "text": [
      "Lasso Regression Train MSE: 0.0194\n",
      "Lasso Regression Test MSE: 0.0192\n"
     ]
    }
   ],
   "source": [
    "model_lasso = Lasso(alpha=0.1)\n",
    "model_lasso.fit(X_train_scaled, y_train)\n",
    "\n",
    "preds_train = model_lasso.predict(X_train_scaled)\n",
    "preds_test = model_lasso.predict(X_test_scaled)\n",
    "\n",
    "mse_train = mean_squared_error(y_train, preds_train)\n",
    "mse_test = mean_squared_error(y_test, preds_test)\n",
    "\n",
    "print(f'Lasso Regression Train MSE: {mse_train:.4f}')\n",
    "print(f'Lasso Regression Test MSE: {mse_test:.4f}')\n"
   ]
  },
  {
   "cell_type": "code",
   "execution_count": 7,
   "id": "db394d42",
   "metadata": {},
   "outputs": [
    {
     "name": "stdout",
     "output_type": "stream",
     "text": [
      "Decision Tree Train MSE: 0.0000\n",
      "Decision Tree Test MSE: 0.0217\n"
     ]
    }
   ],
   "source": [
    "model_dt = DecisionTreeRegressor(random_state=42)\n",
    "model_dt.fit(X_train_scaled, y_train)\n",
    "\n",
    "preds_train = model_dt.predict(X_train_scaled)\n",
    "preds_test = model_dt.predict(X_test_scaled)\n",
    "\n",
    "mse_train = mean_squared_error(y_train, preds_train)\n",
    "mse_test = mean_squared_error(y_test, preds_test)\n",
    "\n",
    "print(f'Decision Tree Train MSE: {mse_train:.4f}')\n",
    "print(f'Decision Tree Test MSE: {mse_test:.4f}')\n"
   ]
  },
  {
   "cell_type": "code",
   "execution_count": 8,
   "id": "6876a04b",
   "metadata": {},
   "outputs": [
    {
     "name": "stdout",
     "output_type": "stream",
     "text": [
      "Random Forest Train MSE: 0.0016\n",
      "Random Forest Test MSE: 0.0142\n"
     ]
    }
   ],
   "source": [
    "model_rf = RandomForestRegressor(n_estimators=100, random_state=42)\n",
    "model_rf.fit(X_train_scaled, y_train)\n",
    "\n",
    "preds_train = model_rf.predict(X_train_scaled)\n",
    "preds_test = model_rf.predict(X_test_scaled)\n",
    "\n",
    "mse_train = mean_squared_error(y_train, preds_train)\n",
    "mse_test = mean_squared_error(y_test, preds_test)\n",
    "\n",
    "print(f'Random Forest Train MSE: {mse_train:.4f}')\n",
    "print(f'Random Forest Test MSE: {mse_test:.4f}')\n"
   ]
  },
  {
   "cell_type": "code",
   "execution_count": 9,
   "id": "cf67d2e6",
   "metadata": {},
   "outputs": [
    {
     "data": {
      "image/png": "[encoded data removed]",
      "text/plain": [
       "<Figure size 640x480 with 1 Axes>"
      ]
     },
     "metadata": {},
     "output_type": "display_data"
    }
   ],
   "source": [
    "import pandas as pd\n",
    "import matplotlib.pyplot as plt\n",
    "\n",
    "models = ['Linear Regression', 'Ridge Regression', 'Lasso Regression', 'Decision Tree', 'Random Forest']\n",
    "train_mse = [mean_squared_error(y_train, model_lr.predict(X_train_scaled)),\n",
    "             mean_squared_error(y_train, model_ridge.predict(X_train_scaled)),\n",
    "             mean_squared_error(y_train, model_lasso.predict(X_train_scaled)),\n",
    "             mean_squared_error(y_train, model_dt.predict(X_train_scaled)),\n",
    "             mean_squared_error(y_train, model_rf.predict(X_train_scaled))]\n",
    "\n",
    "test_mse = [mean_squared_error(y_test, model_lr.predict(X_test_scaled)),\n",
    "            mean_squared_error(y_test, model_ridge.predict(X_test_scaled)),\n",
    "            mean_squared_error(y_test, model_lasso.predict(X_test_scaled)),\n",
    "            mean_squared_error(y_test, model_dt.predict(X_test_scaled)),\n",
    "            mean_squared_error(y_test, model_rf.predict(X_test_scaled))]\n",
    "\n",
    "import numpy as np\n",
    "\n",
    "x = np.arange(len(models))\n",
    "width = 0.35\n",
    "\n",
    "plt.bar(x - width/2, train_mse, width, label='Train MSE')\n",
    "plt.bar(x + width/2, test_mse, width, label='Test MSE')\n",
    "plt.xticks(x, models)\n",
    "plt.ylabel('Mean Squared Error')\n",
    "plt.title('Model Performance Comparison')\n",
    "plt.legend()\n",
    "plt.show()\n"
   ]
  },
  {
   "cell_type": "code",
   "execution_count": null,
   "id": "9445d180",
   "metadata": {},
   "outputs": [],
   "source": []
  }
 ],
 "metadata": {
  "kernelspec": {
   "display_name": "venv (3.13.7)",
   "language": "python",
   "name": "python3"
  },
  "language_info": {
   "codemirror_mode": {
    "name": "ipython",
    "version": 3
   },
   "file_extension": ".py",
   "mimetype": "text/x-python",
   "name": "python",
   "nbconvert_exporter": "python",
   "pygments_lexer": "ipython3",
   "version": "3.13.7"
  }
 },
 "nbformat": 4,
 "nbformat_minor": 5
}
